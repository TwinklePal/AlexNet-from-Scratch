{
 "cells": [
  {
   "cell_type": "code",
   "execution_count": 65,
   "metadata": {},
   "outputs": [],
   "source": [
    "import nbimporter\n",
    "from model import AlexNet\n",
    "import torch\n",
    "import os\n",
    "from torchvision import datasets, transforms\n",
    "from torch.utils.data import DataLoader\n",
    "import torch.nn as nn"
   ]
  },
  {
   "cell_type": "code",
   "execution_count": 66,
   "metadata": {},
   "outputs": [],
   "source": [
    "GPUS = [0]\n",
    "EPOCHS = 10\n",
    "NUM_CLASSES = 100\n",
    "BATCH_SIZE = 128\n",
    "LEARNING_RATE = 0.01\n",
    "WEIGHT_DECAY = 0.0005\n",
    "MOMENTUM = 0.9\n",
    "CHECKPOINT_DIR = 'checkpoints/'"
   ]
  },
  {
   "cell_type": "code",
   "execution_count": 67,
   "metadata": {},
   "outputs": [],
   "source": [
    "device = 'cuda' if torch.cuda.is_available() else 'cpu'"
   ]
  },
  {
   "cell_type": "code",
   "execution_count": 68,
   "metadata": {},
   "outputs": [],
   "source": [
    "seed = torch.initial_seed()\n",
    "model = AlexNet(3, num_classes=NUM_CLASSES).to(device)"
   ]
  },
  {
   "cell_type": "code",
   "execution_count": 69,
   "metadata": {},
   "outputs": [],
   "source": [
    "data_transform = transforms.Compose([\n",
    "    transforms.Grayscale(num_output_channels=3), \n",
    "    transforms.Resize((227, 227)),\n",
    "    transforms.ToTensor(),\n",
    "    transforms.Normalize((0.5,), (0.5,))\n",
    "])"
   ]
  },
  {
   "cell_type": "code",
   "execution_count": 70,
   "metadata": {},
   "outputs": [],
   "source": [
    "train_dataset = datasets.FashionMNIST(root=r\"C:\\Users\\KIIT0001\\Desktop\\AlexNet from Scratch\", train=True, transform=data_transform, download=True)\n",
    "val_dataset = datasets.FashionMNIST(root=r\"C:\\Users\\KIIT0001\\Desktop\\AlexNet from Scratch\", train=False, transform=data_transform, download=True)"
   ]
  },
  {
   "cell_type": "code",
   "execution_count": 71,
   "metadata": {},
   "outputs": [],
   "source": [
    "train_loader = DataLoader(train_dataset, shuffle=True, batch_size=BATCH_SIZE,)\n",
    "val_loader = DataLoader(val_dataset, shuffle=True, batch_size=BATCH_SIZE,)\n",
    "optim = torch.optim.SGD(model.parameters(), lr=LEARNING_RATE, momentum=MOMENTUM, weight_decay=WEIGHT_DECAY)"
   ]
  },
  {
   "cell_type": "code",
   "execution_count": 72,
   "metadata": {},
   "outputs": [],
   "source": [
    "criterion = nn.CrossEntropyLoss()\n",
    "learningRate_scheduler = torch.optim.lr_scheduler.StepLR(optim, step_size=50, gamma=0.1)"
   ]
  },
  {
   "cell_type": "code",
   "execution_count": 75,
   "metadata": {},
   "outputs": [
    {
     "name": "stderr",
     "output_type": "stream",
     "text": [
      "Epoch 1/10: 100%|█████████████████| 469/469 [1:55:36<00:00, 14.79s/it, loss=0.4854, accuracy=0.5143]\n"
     ]
    },
    {
     "name": "stdout",
     "output_type": "stream",
     "text": [
      "Epoch [1/10] - loss: 1.6415 - accuracy: 0.5143\n"
     ]
    },
    {
     "name": "stderr",
     "output_type": "stream",
     "text": [
      "Epoch 2/10: 100%|█████████████████| 469/469 [1:37:52<00:00, 12.52s/it, loss=0.4732, accuracy=0.8288]\n"
     ]
    },
    {
     "name": "stdout",
     "output_type": "stream",
     "text": [
      "Epoch [2/10] - loss: 0.4598 - accuracy: 0.8288\n"
     ]
    },
    {
     "name": "stderr",
     "output_type": "stream",
     "text": [
      "Epoch 3/10: 100%|█████████████████| 469/469 [1:15:06<00:00,  9.61s/it, loss=0.3039, accuracy=0.8679]\n"
     ]
    },
    {
     "name": "stdout",
     "output_type": "stream",
     "text": [
      "Epoch [3/10] - loss: 0.3577 - accuracy: 0.8679\n"
     ]
    },
    {
     "name": "stderr",
     "output_type": "stream",
     "text": [
      "Epoch 4/10: 100%|█████████████████| 469/469 [1:16:44<00:00,  9.82s/it, loss=0.2910, accuracy=0.8901]\n"
     ]
    },
    {
     "name": "stdout",
     "output_type": "stream",
     "text": [
      "Epoch [4/10] - loss: 0.3022 - accuracy: 0.8901\n"
     ]
    },
    {
     "name": "stderr",
     "output_type": "stream",
     "text": [
      "Epoch 5/10: 100%|█████████████████| 469/469 [2:18:05<00:00, 17.67s/it, loss=0.1520, accuracy=0.9003]\n"
     ]
    },
    {
     "name": "stdout",
     "output_type": "stream",
     "text": [
      "Epoch [5/10] - loss: 0.2718 - accuracy: 0.9003\n"
     ]
    },
    {
     "name": "stderr",
     "output_type": "stream",
     "text": [
      "Epoch 6/10: 100%|█████████████████| 469/469 [1:16:43<00:00,  9.82s/it, loss=0.2053, accuracy=0.9080]\n"
     ]
    },
    {
     "name": "stdout",
     "output_type": "stream",
     "text": [
      "Epoch [6/10] - loss: 0.2493 - accuracy: 0.9080\n"
     ]
    },
    {
     "name": "stderr",
     "output_type": "stream",
     "text": [
      "Epoch 7/10: 100%|█████████████████| 469/469 [1:13:52<00:00,  9.45s/it, loss=0.1772, accuracy=0.9159]\n"
     ]
    },
    {
     "name": "stdout",
     "output_type": "stream",
     "text": [
      "Epoch [7/10] - loss: 0.2265 - accuracy: 0.9159\n"
     ]
    },
    {
     "name": "stderr",
     "output_type": "stream",
     "text": [
      "Epoch 8/10: 100%|█████████████████| 469/469 [1:14:43<00:00,  9.56s/it, loss=0.1543, accuracy=0.9223]\n"
     ]
    },
    {
     "name": "stdout",
     "output_type": "stream",
     "text": [
      "Epoch [8/10] - loss: 0.2117 - accuracy: 0.9223\n"
     ]
    },
    {
     "name": "stderr",
     "output_type": "stream",
     "text": [
      "Epoch 9/10: 100%|█████████████████| 469/469 [1:14:31<00:00,  9.53s/it, loss=0.1384, accuracy=0.9265]\n"
     ]
    },
    {
     "name": "stdout",
     "output_type": "stream",
     "text": [
      "Epoch [9/10] - loss: 0.1987 - accuracy: 0.9265\n"
     ]
    },
    {
     "name": "stderr",
     "output_type": "stream",
     "text": [
      "Epoch 10/10: 100%|████████████████| 469/469 [1:14:09<00:00,  9.49s/it, loss=0.1681, accuracy=0.9309]\n"
     ]
    },
    {
     "name": "stdout",
     "output_type": "stream",
     "text": [
      "Epoch [10/10] - loss: 0.1868 - accuracy: 0.9309\n"
     ]
    }
   ],
   "source": [
    "from tqdm import tqdm\n",
    "\n",
    "for epoch in range(EPOCHS):\n",
    "    model.train()\n",
    "    epoch_loss = 0\n",
    "    correct = 0\n",
    "    total = 0\n",
    "\n",
    "    train_loader_progress = tqdm(train_loader, desc=f\"Epoch {epoch+1}/{EPOCHS}\", ncols=100)\n",
    "\n",
    "    for X, y in train_loader_progress:\n",
    "        X, y = X.to(device), y.to(device)\n",
    "        optim.zero_grad()\n",
    "        pred = model(X)\n",
    "        loss = criterion(pred, y).to(device)\n",
    "        loss.backward()\n",
    "        optim.step()\n",
    "\n",
    "        epoch_loss += loss.item()  \n",
    "\n",
    "        _, predicted = torch.max(pred.data, 1)\n",
    "        total += y.size(0)\n",
    "        correct += (predicted == y).sum().item()\n",
    "\n",
    "        train_loader_progress.set_postfix({\n",
    "            'loss': f'{loss.item():.4f}', \n",
    "            'accuracy': f'{correct/total:.4f}'\n",
    "        })\n",
    "\n",
    "    avg_loss = epoch_loss / len(train_loader)\n",
    "    avg_accuracy = correct / total\n",
    "\n",
    "    print(f\"Epoch [{epoch+1}/{EPOCHS}] - loss: {avg_loss:.4f} - accuracy: {avg_accuracy:.4f}\")\n",
    "\n",
    "    if not os.path.exists(CHECKPOINT_DIR):\n",
    "        os.makedirs(CHECKPOINT_DIR)\n",
    "\n",
    "    checkpoint_path = os.path.join(CHECKPOINT_DIR, f'model_checkpoint{epoch+1}.pkl')\n",
    "    state = {\n",
    "        'epoch': epoch,\n",
    "        'optimizer': optim.state_dict(),\n",
    "        'model': model.state_dict(),\n",
    "        'seed': seed\n",
    "    }\n",
    "    torch.save(state, checkpoint_path)"
   ]
  },
  {
   "cell_type": "code",
   "execution_count": 76,
   "metadata": {},
   "outputs": [
    {
     "name": "stdout",
     "output_type": "stream",
     "text": [
      "Model saved to checkpoints/final_model1.pt\n"
     ]
    }
   ],
   "source": [
    "final_model_path = os.path.join(CHECKPOINT_DIR, 'final_model1.pt')\n",
    "torch.save(model.state_dict(), final_model_path)\n",
    "print(f\"Model saved to {final_model_path}\")"
   ]
  }
 ],
 "metadata": {
  "kernelspec": {
   "display_name": "Python 3",
   "language": "python",
   "name": "python3"
  },
  "language_info": {
   "codemirror_mode": {
    "name": "ipython",
    "version": 3
   },
   "file_extension": ".py",
   "mimetype": "text/x-python",
   "name": "python",
   "nbconvert_exporter": "python",
   "pygments_lexer": "ipython3",
   "version": "3.11.5"
  }
 },
 "nbformat": 4,
 "nbformat_minor": 2
}
